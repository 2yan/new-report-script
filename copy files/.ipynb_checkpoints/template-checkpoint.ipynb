{
 "cells": [
  {
   "cell_type": "raw",
   "metadata": {},
   "source": [
    "<script>\n",
    "  function code_toggle() {\n",
    "    if (code_shown){\n",
    "      $('div.input').hide('500');\n",
    "      $('#toggleButton').val('Show Code')\n",
    "    } else {\n",
    "      $('div.input').show('500');\n",
    "      $('#toggleButton').val('Hide Code')\n",
    "    }\n",
    "    code_shown = !code_shown\n",
    "  }\n",
    "\n",
    "  $( document ).ready(function(){\n",
    "    code_shown=false;\n",
    "    $('div.input').hide()\n",
    "  });\n",
    "</script>\n",
    "\n",
    "\n",
    "<form action=\"javascript:code_toggle()\"><input type=\"submit\" id=\"toggleButton\" value=\"Show Code\"></form>\n",
    "<link rel=\"stylesheet\" href=\"https://cdn.jupyter.org/notebook/5.1.0/style/style.min.css\">\n",
    "<link href=\"https://fonts.googleapis.com/css?family=Open+Sans%7CPT+Sans\" rel=\"stylesheet\">\n",
    "<style>\n",
    "h1   {color: #E18900;}\n",
    "h2   {color: #C97A00;}\n",
    "h3   {color: #B67003;}\n",
    "h4   {color: #A56501;}\n",
    "p    {color: #959595;}\n",
    "th   {color: #708090;}\n",
    "\n",
    "\n",
    "* {\n",
    "    font-family: 'Open Sans', sans-serif !important;\n",
    "}\n",
    "\n",
    "\n",
    "h1, h2, h3, h4, h5, h6 {\n",
    "    font-family: 'PT Sans', sans-serif !important;\n",
    "}\n",
    "\n",
    "p, a, li, ul{\n",
    "    font-family: 'Open Sans', sans-serif !important;\n",
    "}\n",
    "\n",
    "#toggleButton {\n",
    "    background-color: #E18900; /* Orange */\n",
    "    border: none;\n",
    "    color: white;\n",
    "    padding: .5em 3em;\n",
    "    text-align: center;\n",
    "    text-decoration: none;\n",
    "    display: inline-block;\n",
    "}\n",
    "\n",
    "</style>"
   ]
  },
  {
   "cell_type": "code",
   "execution_count": 3,
   "metadata": {
    "scrolled": true
   },
   "outputs": [
    {
     "name": "stdout",
     "output_type": "stream",
     "text": [
      "6/15/2018\n"
     ]
    },
    {
     "ename": "ValueError",
     "evalue": "Don't forget to set the title",
     "output_type": "error",
     "traceback": [
      "\u001b[1;31m---------------------------------------------------------------------------\u001b[0m",
      "\u001b[1;31mValueError\u001b[0m                                Traceback (most recent call last)",
      "\u001b[1;32m<ipython-input-3-62be321a3727>\u001b[0m in \u001b[0;36m<module>\u001b[1;34m()\u001b[0m\n\u001b[0;32m     28\u001b[0m \u001b[0mprint\u001b[0m\u001b[1;33m(\u001b[0m\u001b[0mrt\u001b[0m\u001b[1;33m.\u001b[0m\u001b[0mget_date_str\u001b[0m\u001b[1;33m(\u001b[0m\u001b[0mdatetime\u001b[0m\u001b[1;33m.\u001b[0m\u001b[0mtoday\u001b[0m\u001b[1;33m(\u001b[0m\u001b[1;33m)\u001b[0m\u001b[1;33m)\u001b[0m\u001b[1;33m)\u001b[0m\u001b[1;33m\u001b[0m\u001b[0m\n\u001b[0;32m     29\u001b[0m \u001b[1;32mif\u001b[0m \u001b[1;34m'Title'\u001b[0m \u001b[1;32min\u001b[0m \u001b[0mtitle\u001b[0m\u001b[1;33m:\u001b[0m\u001b[1;33m\u001b[0m\u001b[0m\n\u001b[1;32m---> 30\u001b[1;33m     \u001b[1;32mraise\u001b[0m \u001b[0mValueError\u001b[0m\u001b[1;33m(\u001b[0m\u001b[1;34m\"Don't forget to set the title\"\u001b[0m\u001b[1;33m)\u001b[0m\u001b[1;33m\u001b[0m\u001b[0m\n\u001b[0m\u001b[0;32m     31\u001b[0m \u001b[0mprintmd\u001b[0m\u001b[1;33m(\u001b[0m\u001b[0mtitle\u001b[0m\u001b[1;33m)\u001b[0m\u001b[1;33m\u001b[0m\u001b[0m\n",
      "\u001b[1;31mValueError\u001b[0m: Don't forget to set the title"
     ]
    }
   ],
   "source": [
    "import sql_tools \n",
    "import pypyodbc\n",
    "import pandas as pd\n",
    "import numpy as np\n",
    "import ryan_tools as rt\n",
    "import seaborn as sea\n",
    "from datetime import datetime, timedelta\n",
    "from IPython.display import display,Markdown, HTML\n",
    "from matplotlib import pyplot as plt\n",
    "phi = (1 + np.sqrt(5))/2\n",
    "\n",
    "horkos = sql_tools.IcePick(pypyodbc, driver = 'SQL Server', server = 'Horkos', database = 'Salesforce backups')\n",
    "eirene = sql_tools.IcePick(pypyodbc, driver = 'SQL Server', server = 'Eirene', database = 'Mas_GPI')\n",
    "pardot = sql_tools.IcePick(pypyodbc, driver = 'SQL Server', server = 'Horkos', database = 'PardotBackup')\n",
    "virto = sql_tools.IcePick(pypyodbc, driver = 'SQL Server', server = 'Skeiron', database = 'Virto_Live')\n",
    "live_printer = sql_tools.IcePick(pypyodbc, driver = 'SQL Server', server = 'Skeiron', database = 'PrinterAnalytics_live')\n",
    "def printmd(text):\n",
    "    if type(text) == pd.DataFrame:\n",
    "        display(HTML(text.to_html()))\n",
    "        return\n",
    "    display(Markdown(text))\n",
    "\n",
    "\n",
    "    \n",
    "\n",
    "title = '''# Title\n",
    "*Author: Ryan Francis* '''\n",
    "print(rt.get_date_str(datetime.today()))\n",
    "if 'Title' in title:\n",
    "    raise ValueError(\"Don't forget to set the title\")\n",
    "printmd(title)\n"
   ]
  },
  {
   "cell_type": "code",
   "execution_count": 2,
   "metadata": {
    "collapsed": true
   },
   "outputs": [],
   "source": [
    "def read_sql(sql, connector):\n",
    "    global cache\n",
    "    try:\n",
    "        cache\n",
    "    except NameError:\n",
    "        cache = {}\n",
    "    try:\n",
    "        return cache[sql].copy()\n",
    "    except KeyError:\n",
    "        cache[sql] = connector.read_sql(sql)\n",
    "        return cache[sql].copy()"
   ]
  },
  {
   "cell_type": "markdown",
   "metadata": {},
   "source": [
    "\"\"\"\n",
    "select extensionamt - (unitcost*quantityshipped) - ((((header.commissionrate+4)*((unitprice- item.udf_commcost)*quantityshipped))/100))  profit,\n",
    "extensionamt, OrderDate, quantityshipped,\n",
    "header.ARDivisionNo + '-' + header.CustomerNo mas_no, detail.ItemCode\n",
    "from ar_invoicehistoryheader header\n",
    "JOIN  AR_InvoiceHistoryDetail detail ON header.InvoiceNo = detail.InvoiceNo and header.HeaderSeqNo = detail.HeaderSeqNo\n",
    "JOIN CI_item item on detail.ItemCode = item.ItemCode\n",
    "where \n",
    "    header.OrderDate > '1800-01-01 00:00:00'\n",
    "    -- exclusions adjustment (Not needed for invoices, only needed for salesorders. \n",
    "    -- header.orderstatus <> 'Q' \n",
    "    --and header.orderstatus <> 'X'\n",
    "    -- and header.orderstatus <> 'Z'\n",
    "    and header.termscode <> '03'\n",
    "    and header.termscode <> '08'\n",
    "    and header.termscode <> '09'\n",
    "    and header.ARDivisionNo + '-' + header.CustomerNo <> '11-0000000'\n",
    "    and header.ARDivisionNo + '-' + header.CustomerNo <> '11-0000001'\n",
    "    and header.ARDivisionNo + '-' + header.CustomerNo <> '11-0000002'\n",
    "    and header.ARDivisionNo + '-' + header.CustomerNo <> '11-0000003'\n",
    "    and header.ARDivisionNo + '-' + header.CustomerNo <> '11-0000004'\n",
    "\"\"\""
   ]
  },
  {
   "cell_type": "code",
   "execution_count": 5,
   "metadata": {},
   "outputs": [
    {
     "data": {
      "text/html": [
       "<h1> Hello there<h1>"
      ],
      "text/plain": [
       "<IPython.core.display.HTML object>"
      ]
     },
     "execution_count": 5,
     "metadata": {},
     "output_type": "execute_result"
    }
   ],
   "source": [
    "HTML('<h1> Hello there<h1>')"
   ]
  }
 ],
 "metadata": {
  "kernelspec": {
   "display_name": "Python 3",
   "language": "python",
   "name": "python3"
  },
  "language_info": {
   "codemirror_mode": {
    "name": "ipython",
    "version": 3
   },
   "file_extension": ".py",
   "mimetype": "text/x-python",
   "name": "python",
   "nbconvert_exporter": "python",
   "pygments_lexer": "ipython3",
   "version": "3.6.5"
  }
 },
 "nbformat": 4,
 "nbformat_minor": 2
}
